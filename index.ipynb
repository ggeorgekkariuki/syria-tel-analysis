{
    "cells": [
        {
            "cell_type": "code",
            "execution_count": 1,
            "metadata": {},
            "outputs": [
             {
              "name": "stdout",
              "output_type": "stream",
              "text": [
               "Draft Notebook.ipynb\n",
               "SyriaTel Logo.jpg\n",
               "SyriaTel Presentation.pptx\n",
               "Telecommunications_Image.jpg\n",
               "bigml_59c28831336c6604c800002a.csv\n",
               "images\n",
               "resource.txt\n"
              ]
             }
            ],
            "source": [
             "!ls"
            ]
           },
           {
            "cell_type": "markdown",
            "metadata": {},
            "source": [
             "![Telecommunications_Image](Telecommunications_Image.jpg)"
            ]
           },
           {
            "cell_type": "markdown",
            "metadata": {},
            "source": [
             "## 1.0 Business Understanding"
            ]
           },
           {
            "cell_type": "markdown",
            "metadata": {},
            "source": [
             "<div>\n",
             "    <ol>\n",
             "        <li>\n",
             "            <h3>Overview</h3>\n",
             "            <p>\n",
             "                The telecommunications industry brags as being one of the few industries with the stiffest competitions around.\n",
             "                Volitile customer retention rates due to economic downturns, increased costs, appealing competition products and other factors, increased technology, globalisation and unnecessary government interference and restrictions are all contributing factors to this competition. \n",
             "                Syria Telecommunications faces the same issues as other telecommunication giants if not at a greater rate. The industry accepted churn rate is between 5% - 7%. However, Syria Telecommunications faces a far worse challenge as the mean of it's churn rate rises to near 15%, when this data was collected. \n",
             "            </p>\n",
             "        </li>\n",
             "                <li>\n",
             "            <h3>Problem Statement</h3>\n",
             "            <p>NOT DONE\n",
             "                    </p>\n",
             "        </li>\n",
             "        <li>\n",
             "            <h3>Objectives</h3>\n",
             "            <ul>\n",
             "                <li>To identify the key states that hold most customers</li>\n",
             "                <li>To identify factors leading to increased churn rates</li>\n",
             "                <li>To create a classification model that predicts whether a customer will churn with a recall of over 80%</li>\n",
             "                <li>To give customer retention recommendations</li>\n",
             "            </ul>\n",
             "        </li>\n",
             "        <li>\n",
             "            <h3>Proposed Solution</h3>\n",
             "            <p>Syria Telecommunications management understands that is cheaper to retain the existing customer base than to seek new business and new customers. Management seeks to remedy the situation by tasking the Customer Relations and Retention Department to understand and remedy the situation as quickly as possible.</p>\n",
             "            <p>This kind of situation requires the use of classification model that is up to task to give a recall value of over 80% - reducing the risk of any false negatives occuring in our model.</p>\n",
             "        </li>        \n",
             "        <li>\n",
             "            <h3>Brief Conclusion</h3>\n",
             "            <p>\n",
             "                Retaining the customer base will lead to less churn rates, improved financial returns, increased loyalty from our customers and in the future an ability to attract other customers carving a larger fraction in the market\n",
             "            </p>\n",
             "        </li>\n",
             "        <li>\n",
             "            <h3></h3>\n",
             "            <p></p>\n",
             "        </li>\n",
             "    </ol>\n",
             "</div>"
            ]
           },
           {
            "cell_type": "markdown",
            "metadata": {},
            "source": [
             "## 2.0 Data Understanding"
            ]
           },
           {
            "cell_type": "markdown",
            "metadata": {},
            "source": [
             "The data was sourced from Kaggle.\n",
             "\n",
             "There are 3333 records and 21 features in the data.\n",
             "\n",
             "Associated columns included are:\n",
             "\n",
             "- `State`: The location of the customer.\n",
             "- `Account Length`: The number of days the account was held by the customer.\n",
             "- `Area Code`: The area code of the customer.\n",
             "- `Phone Number`: Phone number assigned to the user.\n",
             "- `International Plan`: Indicator of whether the customer has an international plan.\n",
             "- `Voice Mail Plan`: Indicator of whether the customer has a voicemail plan.\n",
             "- `Number Vmail Messages`: Number of voicemails sent.\n",
             "- `Total Day Minutes`: Number of minutes the customer has been in calls during the day.\n",
             "- `Total Day Calls`: Total calls made during the day.\n",
             "- `Total Day Charge`: Billed charge to the customer for all day calls.\n",
             "- `Total Eve Minutes`: Number of minutes the customer has been in calls during the evening.\n",
             "- `Total Eve Calls`: Total calls made during the evening.\n",
             "- `Total Eve Charge`: Billed charge to the customer for all evening calls.\n",
             "- `Total Night Minutes`: Number of minutes the customer has been in calls during the night.\n",
             "- `Total Night Calls`: Total calls made during the night.\n",
             "- `Total Night Charge`: Billed charge to the customer for all night calls.\n",
             "- `Total Intl Minutes`: Total number minutes on international calls.\n",
             "- `Total Intl Calls`: Total internation calls made.\n",
             "- `Total Intl Charge`: Billed charge to the customer for all international calls.\n",
             "- `Customer Service Calls`: Number of calls made to customer service.\n",
             "- `Churn`: Indication of whether the customer terminated their contract."
            ]
           }
],
"metadata": {
 "kernelspec": {
  "display_name": "Python (learn-env)",
  "language": "python",
  "name": "learn-env"
 }
},
"nbformat": 4,
"nbformat_minor": 4
}